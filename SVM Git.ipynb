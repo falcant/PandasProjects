{
 "cells": [
  {
   "cell_type": "code",
   "execution_count": 1,
   "metadata": {},
   "outputs": [],
   "source": [
    "import pandas as pd\n",
    "import os, glob\n",
    "import re\n",
    "import shutil\n",
    "import pyodbc\n",
    "import numpy as np\n",
    "#from simpledbf import Dbf5\n"
   ]
  },
  {
   "cell_type": "code",
   "execution_count": null,
   "metadata": {},
   "outputs": [],
   "source": [
    "#Lookup_project_type.head()"
   ]
  },
  {
   "cell_type": "code",
   "execution_count": 3,
   "metadata": {},
   "outputs": [],
   "source": [
    "pd.set_option('display.max_columns', None)\n"
   ]
  },
  {
   "cell_type": "code",
   "execution_count": null,
   "metadata": {},
   "outputs": [],
   "source": []
  },
  {
   "cell_type": "code",
   "execution_count": 5,
   "metadata": {},
   "outputs": [
    {
     "data": {
      "text/html": [
       "<div>\n",
       "<style scoped>\n",
       "    .dataframe tbody tr th:only-of-type {\n",
       "        vertical-align: middle;\n",
       "    }\n",
       "\n",
       "    .dataframe tbody tr th {\n",
       "        vertical-align: top;\n",
       "    }\n",
       "\n",
       "    .dataframe thead th {\n",
       "        text-align: right;\n",
       "    }\n",
       "</style>\n",
       "<table border=\"1\" class=\"dataframe\">\n",
       "  <thead>\n",
       "    <tr style=\"text-align: right;\">\n",
       "      <th></th>\n",
       "      <th>AcuityScore</th>\n",
       "      <th>Veteran</th>\n",
       "      <th>HoH</th>\n",
       "      <th>ProgramTypeCode</th>\n",
       "      <th>Gender</th>\n",
       "      <th>ethnicity</th>\n",
       "      <th>Age</th>\n",
       "      <th>race</th>\n",
       "      <th>active</th>\n",
       "      <th>NewEnrolled</th>\n",
       "      <th>PHExits</th>\n",
       "    </tr>\n",
       "  </thead>\n",
       "  <tbody>\n",
       "    <tr>\n",
       "      <td>0</td>\n",
       "      <td>9</td>\n",
       "      <td>0</td>\n",
       "      <td>1</td>\n",
       "      <td>13</td>\n",
       "      <td>0</td>\n",
       "      <td>2</td>\n",
       "      <td>25</td>\n",
       "      <td>5</td>\n",
       "      <td>2</td>\n",
       "      <td>1</td>\n",
       "      <td>1</td>\n",
       "    </tr>\n",
       "    <tr>\n",
       "      <td>1</td>\n",
       "      <td>9</td>\n",
       "      <td>0</td>\n",
       "      <td>1</td>\n",
       "      <td>1</td>\n",
       "      <td>0</td>\n",
       "      <td>2</td>\n",
       "      <td>25</td>\n",
       "      <td>5</td>\n",
       "      <td>2</td>\n",
       "      <td>1</td>\n",
       "      <td>2</td>\n",
       "    </tr>\n",
       "    <tr>\n",
       "      <td>2</td>\n",
       "      <td>9</td>\n",
       "      <td>0</td>\n",
       "      <td>1</td>\n",
       "      <td>1</td>\n",
       "      <td>0</td>\n",
       "      <td>2</td>\n",
       "      <td>25</td>\n",
       "      <td>5</td>\n",
       "      <td>2</td>\n",
       "      <td>1</td>\n",
       "      <td>1</td>\n",
       "    </tr>\n",
       "    <tr>\n",
       "      <td>3</td>\n",
       "      <td>4</td>\n",
       "      <td>0</td>\n",
       "      <td>1</td>\n",
       "      <td>13</td>\n",
       "      <td>0</td>\n",
       "      <td>1</td>\n",
       "      <td>32</td>\n",
       "      <td>3</td>\n",
       "      <td>1</td>\n",
       "      <td>1</td>\n",
       "      <td>2</td>\n",
       "    </tr>\n",
       "    <tr>\n",
       "      <td>4</td>\n",
       "      <td>4</td>\n",
       "      <td>0</td>\n",
       "      <td>1</td>\n",
       "      <td>1</td>\n",
       "      <td>0</td>\n",
       "      <td>1</td>\n",
       "      <td>32</td>\n",
       "      <td>3</td>\n",
       "      <td>2</td>\n",
       "      <td>1</td>\n",
       "      <td>1</td>\n",
       "    </tr>\n",
       "  </tbody>\n",
       "</table>\n",
       "</div>"
      ],
      "text/plain": [
       "   AcuityScore  Veteran  HoH  ProgramTypeCode  Gender  ethnicity  Age  race  \\\n",
       "0            9        0    1               13       0          2   25     5   \n",
       "1            9        0    1                1       0          2   25     5   \n",
       "2            9        0    1                1       0          2   25     5   \n",
       "3            4        0    1               13       0          1   32     3   \n",
       "4            4        0    1                1       0          1   32     3   \n",
       "\n",
       "   active  NewEnrolled  PHExits  \n",
       "0       2            1        1  \n",
       "1       2            1        2  \n",
       "2       2            1        1  \n",
       "3       1            1        2  \n",
       "4       2            1        1  "
      ]
     },
     "execution_count": 5,
     "metadata": {},
     "output_type": "execute_result"
    }
   ],
   "source": [
    "Tdf = df\n",
    "\n",
    "#Tdf= Tdf[Tdf['PHExits']=='Yes']\n",
    "Tdf = Tdf[['AcuityScore','Veteran','HoH','ProgramTypeCode','Gender','ethnicity','Age','race','active','NewEnrolled','PHExits']]\n",
    "Tdf = Tdf[Tdf['race']!='Multirace']\n",
    "#Conditions----\n",
    "\n",
    "# Head of Household-----\n",
    "Tdf['HoH'] = np.where(Tdf['HoH']=='Yes', 1, 2)\n",
    "#Tdf = Tdf.drop('HoH',axis=1)\n",
    "#--------\n",
    "\n",
    "#---Gender-----\n",
    "conditionsGender = [\n",
    "    (Tdf['Gender'] == 'Female') ,\n",
    "    (Tdf['Gender'] == 'Male') ,\n",
    "    (Tdf['Gender'] == 'Trans Female (FTM or Male to Female)'),\n",
    "    (Tdf['Gender'] == 'Trans Male (FTM or Female to Male)'),\n",
    "    (Tdf['Gender'] == 'Gender Non-Conforming (i.e. not exclusively male or female)'),\n",
    "    (Tdf['Gender'] == \"Client doesn't know\"),\n",
    "    (Tdf['Gender'] == \"Client refused\")]\n",
    "choicesGender = [0,1,2,3,4,8,9]\n",
    "Tdf['Gender'] = np.select(conditionsGender, choicesGender, default= 99)\n",
    "#-------------\n",
    "\n",
    "# Active: 1 for active and 2 not active.----------\n",
    "Tdf['active'] = np.where(Tdf['active']=='Yes', 1, 2) \n",
    "\n",
    "# New enrolled: 1 for yes and 2 for now\n",
    "Tdf['NewEnrolled'] = np.where(Tdf['NewEnrolled']=='Yes', 1, 2)\n",
    "\n",
    "# Ethnicity: \n",
    "conditionsEthnicity = [\n",
    "    (Tdf['ethnicity'] == 'Non-Hispanic/Non-Latino') ,\n",
    "    (Tdf['ethnicity'] == 'Hispanic/Latino') ,\n",
    "    (Tdf['ethnicity'] == \"Client doesn't know\"),\n",
    "    (Tdf['ethnicity'] == \"Client refused\")]\n",
    "choicesEthnicity = [1,2,8,9]\n",
    "Tdf['ethnicity'] = np.select(conditionsEthnicity, choicesEthnicity, default= 99)\n",
    "\n",
    "# VETERAN\n",
    "#Tdf['Veteran'] = np.where(Tdf['Veteran']=='Yes', 1, 2) \n",
    "conditionsVeteran = [\n",
    "    (Tdf['Veteran'] == 'No') ,\n",
    "    (Tdf['Veteran'] == 'Yes') ,\n",
    "    (Tdf['Veteran'] == \"Client doesn't know\"),\n",
    "    (Tdf['Veteran'] == \"Client refused\")]\n",
    "choicesVeteran = [0,2,8,9]\n",
    "Tdf['Veteran'] = np.select(conditionsVeteran, choicesVeteran, default= 99)\n",
    "\n",
    "#Race\n",
    "conditionsRace = [\n",
    "    (Tdf['race'] == 'American Indian or Alaska Native') ,\n",
    "    (Tdf['race'] == 'Asian') ,\n",
    "    (Tdf['race'] == \"Black or African American\"),\n",
    "    (Tdf['race'] == \"Native Hawaiian or Other Pacific Islander\"),\n",
    "    (Tdf['race'] == \"White\"),\n",
    "    (Tdf['race'] == \"Client doesn't know\"),\n",
    "    (Tdf['race'] == \"Client refused\")]\n",
    "choicesRace = [1,2,3,4,5,8,9]\n",
    "Tdf['race'] = np.select(conditionsRace, choicesRace, default= 99)\n",
    "\n",
    "#PH Exits\n",
    "Tdf['PHExits'] = np.where(Tdf['PHExits']=='Yes', 1, 2) \n",
    "Tdf.head()"
   ]
  },
  {
   "cell_type": "code",
   "execution_count": 14,
   "metadata": {},
   "outputs": [],
   "source": []
  },
  {
   "cell_type": "code",
   "execution_count": 13,
   "metadata": {},
   "outputs": [
    {
     "data": {
      "text/plain": [
       "2    2868\n",
       "1     579\n",
       "Name: PHExits, dtype: int64"
      ]
     },
     "execution_count": 13,
     "metadata": {},
     "output_type": "execute_result"
    }
   ],
   "source": [
    "Tdf['PHExits'].value_counts()"
   ]
  },
  {
   "cell_type": "code",
   "execution_count": 17,
   "metadata": {},
   "outputs": [],
   "source": [
    "from sklearn.svm import SVC"
   ]
  },
  {
   "cell_type": "code",
   "execution_count": 18,
   "metadata": {},
   "outputs": [],
   "source": [
    "X = Tdf.drop('PHExits', axis=1)\n",
    "y = Tdf['PHExits']"
   ]
  },
  {
   "cell_type": "code",
   "execution_count": 19,
   "metadata": {},
   "outputs": [],
   "source": [
    "from sklearn.model_selection import train_test_split\n",
    "X_train, X_test, y_train, y_test = train_test_split(X, y, test_size = 0.20)"
   ]
  },
  {
   "cell_type": "code",
   "execution_count": 20,
   "metadata": {},
   "outputs": [
    {
     "name": "stderr",
     "output_type": "stream",
     "text": [
      "D:\\Felix\\Anaconda3\\lib\\site-packages\\sklearn\\svm\\base.py:193: FutureWarning: The default value of gamma will change from 'auto' to 'scale' in version 0.22 to account better for unscaled features. Set gamma explicitly to 'auto' or 'scale' to avoid this warning.\n",
      "  \"avoid this warning.\", FutureWarning)\n"
     ]
    },
    {
     "data": {
      "text/plain": [
       "SVC(C=1.0, cache_size=200, class_weight=None, coef0=0.0,\n",
       "    decision_function_shape='ovr', degree=4, gamma='auto_deprecated',\n",
       "    kernel='poly', max_iter=-1, probability=False, random_state=None,\n",
       "    shrinking=True, tol=0.001, verbose=False)"
      ]
     },
     "execution_count": 20,
     "metadata": {},
     "output_type": "execute_result"
    }
   ],
   "source": [
    "#SVM - Polynomial Kernel\n",
    "svclassifier = SVC(kernel='poly', degree=4)\n",
    "svclassifier.fit(X_train, y_train)"
   ]
  },
  {
   "cell_type": "code",
   "execution_count": 21,
   "metadata": {},
   "outputs": [],
   "source": [
    "#Making Predictions\n",
    "y_pred = svclassifier.predict(X_test)"
   ]
  },
  {
   "cell_type": "code",
   "execution_count": 22,
   "metadata": {},
   "outputs": [
    {
     "name": "stdout",
     "output_type": "stream",
     "text": [
      "[[ 53  67]\n",
      " [ 41 529]]\n",
      "              precision    recall  f1-score   support\n",
      "\n",
      "           1       0.56      0.44      0.50       120\n",
      "           2       0.89      0.93      0.91       570\n",
      "\n",
      "    accuracy                           0.84       690\n",
      "   macro avg       0.73      0.68      0.70       690\n",
      "weighted avg       0.83      0.84      0.84       690\n",
      "\n"
     ]
    }
   ],
   "source": [
    "#Evaluating the Algorithm\n",
    "\n",
    "from sklearn.metrics import classification_report, confusion_matrix\n",
    "print(confusion_matrix(y_test, y_pred))\n",
    "print(classification_report(y_test, y_pred))"
   ]
  },
  {
   "cell_type": "code",
   "execution_count": 24,
   "metadata": {},
   "outputs": [
    {
     "data": {
      "text/plain": [
       "SVC(C=1.0, cache_size=200, class_weight=None, coef0=0.0,\n",
       "    decision_function_shape='ovr', degree=3, gamma='auto_deprecated',\n",
       "    kernel='linear', max_iter=-1, probability=False, random_state=None,\n",
       "    shrinking=True, tol=0.001, verbose=False)"
      ]
     },
     "execution_count": 24,
     "metadata": {},
     "output_type": "execute_result"
    }
   ],
   "source": [
    "# SVM using a linear kernel\n",
    "svclassifier2 = SVC(kernel='linear')\n",
    "svclassifier2.fit(X_train, y_train)"
   ]
  },
  {
   "cell_type": "code",
   "execution_count": 25,
   "metadata": {},
   "outputs": [],
   "source": [
    "y_predLinear = svclassifier2.predict(X_test)"
   ]
  },
  {
   "cell_type": "code",
   "execution_count": 27,
   "metadata": {},
   "outputs": [
    {
     "name": "stdout",
     "output_type": "stream",
     "text": [
      "[[ 24  96]\n",
      " [ 20 550]]\n",
      "              precision    recall  f1-score   support\n",
      "\n",
      "           1       0.55      0.20      0.29       120\n",
      "           2       0.85      0.96      0.90       570\n",
      "\n",
      "    accuracy                           0.83       690\n",
      "   macro avg       0.70      0.58      0.60       690\n",
      "weighted avg       0.80      0.83      0.80       690\n",
      "\n"
     ]
    }
   ],
   "source": [
    "print(confusion_matrix(y_test, y_predLinear))\n",
    "print(classification_report(y_test, y_predLinear))"
   ]
  },
  {
   "cell_type": "code",
   "execution_count": null,
   "metadata": {},
   "outputs": [],
   "source": []
  }
 ],
 "metadata": {
  "kernelspec": {
   "display_name": "Python 3",
   "language": "python",
   "name": "python3"
  },
  "language_info": {
   "codemirror_mode": {
    "name": "ipython",
    "version": 3
   },
   "file_extension": ".py",
   "mimetype": "text/x-python",
   "name": "python",
   "nbconvert_exporter": "python",
   "pygments_lexer": "ipython3",
   "version": "3.7.3"
  }
 },
 "nbformat": 4,
 "nbformat_minor": 2
}
