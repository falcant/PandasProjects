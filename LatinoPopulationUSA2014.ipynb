{
 "cells": [
  {
   "cell_type": "markdown",
   "metadata": {},
   "source": [
    "# Hispanic Population living in the United States in 2014:\n",
    "This lot contains the number of US-born Hispanics and foreign born Hispanics living in the USA during 2014 per state. A big Thanks to http://www.pewhispanic.org/states/ for letting use its data."
   ]
  },
  {
   "cell_type": "code",
   "execution_count": 120,
   "metadata": {},
   "outputs": [
    {
     "data": {
      "text/html": [
       "<script type=\"text/javascript\">window.PlotlyConfig = {MathJaxConfig: 'local'};</script><script type=\"text/javascript\">if (window.MathJax) {MathJax.Hub.Config({SVG: {font: \"STIX-Web\"}});}</script><script>requirejs.config({paths: { 'plotly': ['https://cdn.plot.ly/plotly-latest.min']},});if(!window._Plotly) {require(['plotly'],function(plotly) {window._Plotly=plotly;});}</script>"
      ],
      "text/vnd.plotly.v1+html": [
       "<script type=\"text/javascript\">window.PlotlyConfig = {MathJaxConfig: 'local'};</script><script type=\"text/javascript\">if (window.MathJax) {MathJax.Hub.Config({SVG: {font: \"STIX-Web\"}});}</script><script>requirejs.config({paths: { 'plotly': ['https://cdn.plot.ly/plotly-latest.min']},});if(!window._Plotly) {require(['plotly'],function(plotly) {window._Plotly=plotly;});}</script>"
      ]
     },
     "metadata": {},
     "output_type": "display_data"
    }
   ],
   "source": [
    "import plotly.graph_objs as go \n",
    "from plotly.offline import init_notebook_mode,iplot,download_plotlyjs\n",
    "init_notebook_mode(connected=True) \n",
    "import pandas as pd"
   ]
  },
  {
   "cell_type": "code",
   "execution_count": 121,
   "metadata": {},
   "outputs": [],
   "source": [
    "#df = pd.read_csv(\"allstates14.csv\")"
   ]
  },
  {
   "cell_type": "code",
   "execution_count": 122,
   "metadata": {},
   "outputs": [],
   "source": [
    "#df.head()"
   ]
  },
  {
   "cell_type": "code",
   "execution_count": 123,
   "metadata": {},
   "outputs": [],
   "source": [
    "df = pd.read_excel('all-states_14.xlsx', sheet_name='Sheet3')\n",
    "\n"
   ]
  },
  {
   "cell_type": "code",
   "execution_count": 124,
   "metadata": {},
   "outputs": [
    {
     "data": {
      "text/html": [
       "<div>\n",
       "<style scoped>\n",
       "    .dataframe tbody tr th:only-of-type {\n",
       "        vertical-align: middle;\n",
       "    }\n",
       "\n",
       "    .dataframe tbody tr th {\n",
       "        vertical-align: top;\n",
       "    }\n",
       "\n",
       "    .dataframe thead th {\n",
       "        text-align: right;\n",
       "    }\n",
       "</style>\n",
       "<table border=\"1\" class=\"dataframe\">\n",
       "  <thead>\n",
       "    <tr style=\"text-align: right;\">\n",
       "      <th></th>\n",
       "      <th>State</th>\n",
       "      <th>Total</th>\n",
       "      <th>U.S.-born Hispanic population</th>\n",
       "      <th>Foreign-born Hispanic population</th>\n",
       "      <th>State Abv</th>\n",
       "    </tr>\n",
       "  </thead>\n",
       "  <tbody>\n",
       "    <tr>\n",
       "      <th>0</th>\n",
       "      <td>Alabama</td>\n",
       "      <td>190000</td>\n",
       "      <td>119000</td>\n",
       "      <td>71000</td>\n",
       "      <td>AL</td>\n",
       "    </tr>\n",
       "    <tr>\n",
       "      <th>1</th>\n",
       "      <td>Alaska</td>\n",
       "      <td>49000</td>\n",
       "      <td>43000</td>\n",
       "      <td>7000</td>\n",
       "      <td>AK</td>\n",
       "    </tr>\n",
       "    <tr>\n",
       "      <th>2</th>\n",
       "      <td>Arizona</td>\n",
       "      <td>2056000</td>\n",
       "      <td>1486000</td>\n",
       "      <td>571000</td>\n",
       "      <td>AZ</td>\n",
       "    </tr>\n",
       "    <tr>\n",
       "      <th>3</th>\n",
       "      <td>Arkansas</td>\n",
       "      <td>205000</td>\n",
       "      <td>117000</td>\n",
       "      <td>88000</td>\n",
       "      <td>AR</td>\n",
       "    </tr>\n",
       "    <tr>\n",
       "      <th>4</th>\n",
       "      <td>California</td>\n",
       "      <td>14991000</td>\n",
       "      <td>9615000</td>\n",
       "      <td>5376000</td>\n",
       "      <td>CA</td>\n",
       "    </tr>\n",
       "  </tbody>\n",
       "</table>\n",
       "</div>"
      ],
      "text/plain": [
       "        State     Total  U.S.-born Hispanic population  \\\n",
       "0     Alabama    190000                         119000   \n",
       "1      Alaska     49000                          43000   \n",
       "2     Arizona   2056000                        1486000   \n",
       "3    Arkansas    205000                         117000   \n",
       "4  California  14991000                        9615000   \n",
       "\n",
       "   Foreign-born Hispanic population State Abv  \n",
       "0                             71000        AL  \n",
       "1                              7000        AK  \n",
       "2                            571000        AZ  \n",
       "3                             88000        AR  \n",
       "4                           5376000        CA  "
      ]
     },
     "execution_count": 124,
     "metadata": {},
     "output_type": "execute_result"
    }
   ],
   "source": [
    "df.head()"
   ]
  },
  {
   "cell_type": "code",
   "execution_count": 125,
   "metadata": {},
   "outputs": [],
   "source": [
    "data = dict(type='choropleth',\n",
    "            #colorscale = 'YIOrRd',\n",
    "            locations = df['State Abv'],\n",
    "            z = df['Total'],\n",
    "            locationmode = 'USA-states',\n",
    "            text ='US Born: ' + df['U.S.-born Hispanic population'].map(str) + '\\n, ' + 'Non-US Born: '\n",
    "            + df['Foreign-born Hispanic population'].map(str),\n",
    "            #marker = dict(line = dict(color = 'rgb(255,255,255)',width = 2)),\n",
    "            colorbar = {'title':\"Population Number\"}\n",
    "            ) "
   ]
  },
  {
   "cell_type": "code",
   "execution_count": 126,
   "metadata": {},
   "outputs": [],
   "source": [
    "layout = dict(\n",
    "    title = 'Hispanic Population in the US: 2014',\n",
    "    geo = dict(scope= 'usa',\n",
    "    showframe = False,\n",
    "        #projection = {'type':'mercator'}\n",
    "    ))"
   ]
  },
  {
   "cell_type": "code",
   "execution_count": 127,
   "metadata": {
    "scrolled": true
   },
   "outputs": [
    {
     "data": {
      "application/vnd.plotly.v1+json": {
       "config": {
        "linkText": "Export to plot.ly",
        "plotlyServerURL": "https://plot.ly",
        "showLink": true
       },
       "data": [
        {
         "colorbar": {
          "title": "Population Number"
         },
         "locationmode": "USA-states",
         "locations": [
          "AL",
          "AK",
          "AZ",
          "AR",
          "CA",
          "CO",
          "CT",
          "DE",
          "FL",
          "GA",
          "HI",
          "ID",
          "IL",
          "IN",
          "IA",
          "KS",
          "KY",
          "LA",
          "ME",
          "MD",
          "MA",
          "MI",
          "MN",
          "MS",
          "MO",
          "MT",
          "NE",
          "NV",
          "NH",
          "NJ",
          "NM",
          "NY",
          "NC",
          "ND",
          "OH",
          "OK",
          "OR",
          "PA",
          "RI",
          "SC",
          "SD",
          "TN",
          "TX",
          "UT",
          "VT",
          "VA",
          "WA",
          "WV",
          "WI",
          "WY"
         ],
         "text": [
          "US Born: 119000\n, Non-US Born: 71000",
          "US Born: 43000\n, Non-US Born: 7000",
          "US Born: 1486000\n, Non-US Born: 571000",
          "US Born: 117000\n, Non-US Born: 88000",
          "US Born: 9615000\n, Non-US Born: 5376000",
          "US Born: 862000\n, Non-US Born: 274000",
          "US Born: 399000\n, Non-US Born: 141000",
          "US Born: 61000\n, Non-US Born: 22000",
          "US Born: 2510000\n, Non-US Born: 2280000",
          "US Born: 519000\n, Non-US Born: 404000",
          "US Born: 131000\n, Non-US Born: 12000",
          "US Born: 135000\n, Non-US Born: 62000",
          "US Born: 1381000\n, Non-US Born: 772000",
          "US Born: 288000\n, Non-US Born: 138000",
          "US Born: 114000\n, Non-US Born: 57000",
          "US Born: 218000\n, Non-US Born: 110000",
          "US Born: 87000\n, Non-US Born: 58000",
          "US Born: 136000\n, Non-US Born: 87000",
          "US Born: 13000\n, Non-US Born: 3000",
          "US Born: 280000\n, Non-US Born: 276000",
          "US Born: 499000\n, Non-US Born: 230000",
          "US Born: 370000\n, Non-US Born: 106000",
          "US Born: 168000\n, Non-US Born: 107000",
          "US Born: 50000\n, Non-US Born: 30000",
          "US Born: 171000\n, Non-US Born: 61000",
          "US Born: 29000\n, Non-US Born: 5000",
          "US Born: 122000\n, Non-US Born: 69000",
          "US Born: 480000\n, Non-US Born: 310000",
          "US Born: 29000\n, Non-US Born: 13000",
          "US Born: 1007000\n, Non-US Born: 722000",
          "US Born: 828000\n, Non-US Born: 166000",
          "US Born: 2245000\n, Non-US Born: 1424000",
          "US Born: 496000\n, Non-US Born: 394000",
          "US Born: 14000\n, Non-US Born: 4000",
          "US Born: 309000\n, Non-US Born: 85000",
          "US Born: 255000\n, Non-US Born: 123000",
          "US Born: 325000\n, Non-US Born: 171000",
          "US Born: 652000\n, Non-US Born: 181000",
          "US Born: 91000\n, Non-US Born: 58000",
          "US Born: 154000\n, Non-US Born: 103000",
          "US Born: 24000\n, Non-US Born: 6000",
          "US Born: 182000\n, Non-US Born: 140000",
          "US Born: 7331000\n, Non-US Born: 3074000",
          "US Born: 256000\n, Non-US Born: 141000",
          "US Born: 9000\n, Non-US Born: 1000",
          "US Born: 398000\n, Non-US Born: 334000",
          "US Born: 583000\n, Non-US Born: 275000",
          "US Born: 17000\n, Non-US Born: 6000",
          "US Born: 265000\n, Non-US Born: 104000",
          "US Born: 45000\n, Non-US Born: 12000"
         ],
         "type": "choropleth",
         "uid": "201d15be-f0c1-4750-aadb-047904317872",
         "z": [
          190000,
          49000,
          2056000,
          205000,
          14991000,
          1136000,
          540000,
          83000,
          4790000,
          923000,
          142000,
          198000,
          2153000,
          426000,
          171000,
          329000,
          145000,
          222000,
          17000,
          556000,
          729000,
          477000,
          276000,
          80000,
          232000,
          34000,
          190000,
          789000,
          41000,
          1730000,
          994000,
          3668000,
          890000,
          18000,
          395000,
          378000,
          496000,
          834000,
          148000,
          258000,
          29000,
          322000,
          10405000,
          397000,
          10000,
          732000,
          858000,
          23000,
          370000,
          57000
         ]
        }
       ],
       "layout": {
        "geo": {
         "scope": "usa",
         "showframe": false
        },
        "title": "Hispanic Population in the US: 2014"
       }
      },
      "text/html": [
       "<div id=\"017ec2af-b234-4838-9bea-adf0d0d86fc8\" style=\"height: 525px; width: 100%;\" class=\"plotly-graph-div\"></div><script type=\"text/javascript\">require([\"plotly\"], function(Plotly) { window.PLOTLYENV=window.PLOTLYENV || {};window.PLOTLYENV.BASE_URL=\"https://plot.ly\";Plotly.newPlot(\"017ec2af-b234-4838-9bea-adf0d0d86fc8\", [{\"colorbar\": {\"title\": \"Population Number\"}, \"locationmode\": \"USA-states\", \"locations\": [\"AL\", \"AK\", \"AZ\", \"AR\", \"CA\", \"CO\", \"CT\", \"DE\", \"FL\", \"GA\", \"HI\", \"ID\", \"IL\", \"IN\", \"IA\", \"KS\", \"KY\", \"LA\", \"ME\", \"MD\", \"MA\", \"MI\", \"MN\", \"MS\", \"MO\", \"MT\", \"NE\", \"NV\", \"NH\", \"NJ\", \"NM\", \"NY\", \"NC\", \"ND\", \"OH\", \"OK\", \"OR\", \"PA\", \"RI\", \"SC\", \"SD\", \"TN\", \"TX\", \"UT\", \"VT\", \"VA\", \"WA\", \"WV\", \"WI\", \"WY\"], \"text\": [\"US Born: 119000\\n, Non-US Born: 71000\", \"US Born: 43000\\n, Non-US Born: 7000\", \"US Born: 1486000\\n, Non-US Born: 571000\", \"US Born: 117000\\n, Non-US Born: 88000\", \"US Born: 9615000\\n, Non-US Born: 5376000\", \"US Born: 862000\\n, Non-US Born: 274000\", \"US Born: 399000\\n, Non-US Born: 141000\", \"US Born: 61000\\n, Non-US Born: 22000\", \"US Born: 2510000\\n, Non-US Born: 2280000\", \"US Born: 519000\\n, Non-US Born: 404000\", \"US Born: 131000\\n, Non-US Born: 12000\", \"US Born: 135000\\n, Non-US Born: 62000\", \"US Born: 1381000\\n, Non-US Born: 772000\", \"US Born: 288000\\n, Non-US Born: 138000\", \"US Born: 114000\\n, Non-US Born: 57000\", \"US Born: 218000\\n, Non-US Born: 110000\", \"US Born: 87000\\n, Non-US Born: 58000\", \"US Born: 136000\\n, Non-US Born: 87000\", \"US Born: 13000\\n, Non-US Born: 3000\", \"US Born: 280000\\n, Non-US Born: 276000\", \"US Born: 499000\\n, Non-US Born: 230000\", \"US Born: 370000\\n, Non-US Born: 106000\", \"US Born: 168000\\n, Non-US Born: 107000\", \"US Born: 50000\\n, Non-US Born: 30000\", \"US Born: 171000\\n, Non-US Born: 61000\", \"US Born: 29000\\n, Non-US Born: 5000\", \"US Born: 122000\\n, Non-US Born: 69000\", \"US Born: 480000\\n, Non-US Born: 310000\", \"US Born: 29000\\n, Non-US Born: 13000\", \"US Born: 1007000\\n, Non-US Born: 722000\", \"US Born: 828000\\n, Non-US Born: 166000\", \"US Born: 2245000\\n, Non-US Born: 1424000\", \"US Born: 496000\\n, Non-US Born: 394000\", \"US Born: 14000\\n, Non-US Born: 4000\", \"US Born: 309000\\n, Non-US Born: 85000\", \"US Born: 255000\\n, Non-US Born: 123000\", \"US Born: 325000\\n, Non-US Born: 171000\", \"US Born: 652000\\n, Non-US Born: 181000\", \"US Born: 91000\\n, Non-US Born: 58000\", \"US Born: 154000\\n, Non-US Born: 103000\", \"US Born: 24000\\n, Non-US Born: 6000\", \"US Born: 182000\\n, Non-US Born: 140000\", \"US Born: 7331000\\n, Non-US Born: 3074000\", \"US Born: 256000\\n, Non-US Born: 141000\", \"US Born: 9000\\n, Non-US Born: 1000\", \"US Born: 398000\\n, Non-US Born: 334000\", \"US Born: 583000\\n, Non-US Born: 275000\", \"US Born: 17000\\n, Non-US Born: 6000\", \"US Born: 265000\\n, Non-US Born: 104000\", \"US Born: 45000\\n, Non-US Born: 12000\"], \"z\": [190000, 49000, 2056000, 205000, 14991000, 1136000, 540000, 83000, 4790000, 923000, 142000, 198000, 2153000, 426000, 171000, 329000, 145000, 222000, 17000, 556000, 729000, 477000, 276000, 80000, 232000, 34000, 190000, 789000, 41000, 1730000, 994000, 3668000, 890000, 18000, 395000, 378000, 496000, 834000, 148000, 258000, 29000, 322000, 10405000, 397000, 10000, 732000, 858000, 23000, 370000, 57000], \"type\": \"choropleth\", \"uid\": \"201d15be-f0c1-4750-aadb-047904317872\"}], {\"geo\": {\"scope\": \"usa\", \"showframe\": false}, \"title\": \"Hispanic Population in the US: 2014\"}, {\"showLink\": true, \"linkText\": \"Export to plot.ly\", \"plotlyServerURL\": \"https://plot.ly\"})});</script><script type=\"text/javascript\">window.addEventListener(\"resize\", function(){window._Plotly.Plots.resize(document.getElementById(\"017ec2af-b234-4838-9bea-adf0d0d86fc8\"));});</script>"
      ],
      "text/vnd.plotly.v1+html": [
       "<div id=\"017ec2af-b234-4838-9bea-adf0d0d86fc8\" style=\"height: 525px; width: 100%;\" class=\"plotly-graph-div\"></div><script type=\"text/javascript\">require([\"plotly\"], function(Plotly) { window.PLOTLYENV=window.PLOTLYENV || {};window.PLOTLYENV.BASE_URL=\"https://plot.ly\";Plotly.newPlot(\"017ec2af-b234-4838-9bea-adf0d0d86fc8\", [{\"colorbar\": {\"title\": \"Population Number\"}, \"locationmode\": \"USA-states\", \"locations\": [\"AL\", \"AK\", \"AZ\", \"AR\", \"CA\", \"CO\", \"CT\", \"DE\", \"FL\", \"GA\", \"HI\", \"ID\", \"IL\", \"IN\", \"IA\", \"KS\", \"KY\", \"LA\", \"ME\", \"MD\", \"MA\", \"MI\", \"MN\", \"MS\", \"MO\", \"MT\", \"NE\", \"NV\", \"NH\", \"NJ\", \"NM\", \"NY\", \"NC\", \"ND\", \"OH\", \"OK\", \"OR\", \"PA\", \"RI\", \"SC\", \"SD\", \"TN\", \"TX\", \"UT\", \"VT\", \"VA\", \"WA\", \"WV\", \"WI\", \"WY\"], \"text\": [\"US Born: 119000\\n, Non-US Born: 71000\", \"US Born: 43000\\n, Non-US Born: 7000\", \"US Born: 1486000\\n, Non-US Born: 571000\", \"US Born: 117000\\n, Non-US Born: 88000\", \"US Born: 9615000\\n, Non-US Born: 5376000\", \"US Born: 862000\\n, Non-US Born: 274000\", \"US Born: 399000\\n, Non-US Born: 141000\", \"US Born: 61000\\n, Non-US Born: 22000\", \"US Born: 2510000\\n, Non-US Born: 2280000\", \"US Born: 519000\\n, Non-US Born: 404000\", \"US Born: 131000\\n, Non-US Born: 12000\", \"US Born: 135000\\n, Non-US Born: 62000\", \"US Born: 1381000\\n, Non-US Born: 772000\", \"US Born: 288000\\n, Non-US Born: 138000\", \"US Born: 114000\\n, Non-US Born: 57000\", \"US Born: 218000\\n, Non-US Born: 110000\", \"US Born: 87000\\n, Non-US Born: 58000\", \"US Born: 136000\\n, Non-US Born: 87000\", \"US Born: 13000\\n, Non-US Born: 3000\", \"US Born: 280000\\n, Non-US Born: 276000\", \"US Born: 499000\\n, Non-US Born: 230000\", \"US Born: 370000\\n, Non-US Born: 106000\", \"US Born: 168000\\n, Non-US Born: 107000\", \"US Born: 50000\\n, Non-US Born: 30000\", \"US Born: 171000\\n, Non-US Born: 61000\", \"US Born: 29000\\n, Non-US Born: 5000\", \"US Born: 122000\\n, Non-US Born: 69000\", \"US Born: 480000\\n, Non-US Born: 310000\", \"US Born: 29000\\n, Non-US Born: 13000\", \"US Born: 1007000\\n, Non-US Born: 722000\", \"US Born: 828000\\n, Non-US Born: 166000\", \"US Born: 2245000\\n, Non-US Born: 1424000\", \"US Born: 496000\\n, Non-US Born: 394000\", \"US Born: 14000\\n, Non-US Born: 4000\", \"US Born: 309000\\n, Non-US Born: 85000\", \"US Born: 255000\\n, Non-US Born: 123000\", \"US Born: 325000\\n, Non-US Born: 171000\", \"US Born: 652000\\n, Non-US Born: 181000\", \"US Born: 91000\\n, Non-US Born: 58000\", \"US Born: 154000\\n, Non-US Born: 103000\", \"US Born: 24000\\n, Non-US Born: 6000\", \"US Born: 182000\\n, Non-US Born: 140000\", \"US Born: 7331000\\n, Non-US Born: 3074000\", \"US Born: 256000\\n, Non-US Born: 141000\", \"US Born: 9000\\n, Non-US Born: 1000\", \"US Born: 398000\\n, Non-US Born: 334000\", \"US Born: 583000\\n, Non-US Born: 275000\", \"US Born: 17000\\n, Non-US Born: 6000\", \"US Born: 265000\\n, Non-US Born: 104000\", \"US Born: 45000\\n, Non-US Born: 12000\"], \"z\": [190000, 49000, 2056000, 205000, 14991000, 1136000, 540000, 83000, 4790000, 923000, 142000, 198000, 2153000, 426000, 171000, 329000, 145000, 222000, 17000, 556000, 729000, 477000, 276000, 80000, 232000, 34000, 190000, 789000, 41000, 1730000, 994000, 3668000, 890000, 18000, 395000, 378000, 496000, 834000, 148000, 258000, 29000, 322000, 10405000, 397000, 10000, 732000, 858000, 23000, 370000, 57000], \"type\": \"choropleth\", \"uid\": \"201d15be-f0c1-4750-aadb-047904317872\"}], {\"geo\": {\"scope\": \"usa\", \"showframe\": false}, \"title\": \"Hispanic Population in the US: 2014\"}, {\"showLink\": true, \"linkText\": \"Export to plot.ly\", \"plotlyServerURL\": \"https://plot.ly\"})});</script><script type=\"text/javascript\">window.addEventListener(\"resize\", function(){window._Plotly.Plots.resize(document.getElementById(\"017ec2af-b234-4838-9bea-adf0d0d86fc8\"));});</script>"
      ]
     },
     "metadata": {},
     "output_type": "display_data"
    }
   ],
   "source": [
    "choromap = go.Figure(data = [data],layout = layout)\n",
    "iplot(choromap,validate=False)"
   ]
  },
  {
   "cell_type": "code",
   "execution_count": null,
   "metadata": {},
   "outputs": [],
   "source": []
  }
 ],
 "metadata": {
  "kernelspec": {
   "display_name": "Python 3",
   "language": "python",
   "name": "python3"
  },
  "language_info": {
   "codemirror_mode": {
    "name": "ipython",
    "version": 3
   },
   "file_extension": ".py",
   "mimetype": "text/x-python",
   "name": "python",
   "nbconvert_exporter": "python",
   "pygments_lexer": "ipython3",
   "version": "3.7.0"
  }
 },
 "nbformat": 4,
 "nbformat_minor": 2
}
