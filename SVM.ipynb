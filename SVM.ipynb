{
 "cells": [
  {
   "cell_type": "code",
   "execution_count": 1,
   "metadata": {},
   "outputs": [],
   "source": [
    "import pandas as pd\n",
    "import os, glob\n",
    "import re\n",
    "import shutil\n",
    "import pyodbc\n",
    "import numpy as np\n",
    "#from simpledbf import Dbf5\n"
   ]
  },
  {
   "cell_type": "code",
   "execution_count": 5,
   "metadata": {},
   "outputs": [
    {
     "data": {
      "text/plain": [
       "'\\ncnxn = pyodbc.connect(\\'Trusted_Connection=yes\\',\\n                      driver = \\'{SQL Server}\\',\\n                      server = \\'LAHSA-VM-HMIS\\', \\n                      database = \\'HMISREPORTS\\')\\n \\nquery =  \"SELECT *FROM RequestArchive..tbl_PH_Placement_2018 \"\\n \\nLookup_project_type = pd.read_sql_query(query, cnxn)\\n \\ncnxn.close() \\n'"
      ]
     },
     "execution_count": 5,
     "metadata": {},
     "output_type": "execute_result"
    }
   ],
   "source": [
    "\"\"\"\n",
    "cnxn = pyodbc.connect('Trusted_Connection=yes',\n",
    "                      driver = '{SQL Server}',\n",
    "                      server = 'LAHSA-VM-HMIS', \n",
    "                      database = 'HMISREPORTS')\n",
    " \n",
    "query =  \"SELECT *FROM RequestArchive..tbl_PH_Placement_2018 \"\n",
    " \n",
    "Lookup_project_type = pd.read_sql_query(query, cnxn)\n",
    " \n",
    "cnxn.close() \n",
    "\"\"\""
   ]
  },
  {
   "cell_type": "code",
   "execution_count": null,
   "metadata": {},
   "outputs": [],
   "source": [
    "#Lookup_project_type.head()"
   ]
  },
  {
   "cell_type": "code",
   "execution_count": 2,
   "metadata": {
    "scrolled": true
   },
   "outputs": [],
   "source": [
    "#df = Lookup_project_type.dropna(subset=['AssessmentType'], how= 'all')\n",
    "\n",
    "#df = pd.read_excel(\"N:\\Outcomes\\BOS dashboard\\Recurring Report\\Revised BOs CES Recurring Report\\BOSFamilies_Dashboard_V2_07.17.19 UPDATED.xlsx\",\n",
    " #                      sheet_name=\"Assessed and Enrolled\")\n",
    "\n",
    "df = pd.read_excel(\"D:\\LAHSA\\BOS Families\\BOSFamilies_Dashboard_V2_07.17.19 UPDATED.xlsx\",\n",
    "                       sheet_name=\"Assessed and Enrolled\")"
   ]
  },
  {
   "cell_type": "code",
   "execution_count": 3,
   "metadata": {},
   "outputs": [
    {
     "data": {
      "text/html": [
       "<div>\n",
       "<style scoped>\n",
       "    .dataframe tbody tr th:only-of-type {\n",
       "        vertical-align: middle;\n",
       "    }\n",
       "\n",
       "    .dataframe tbody tr th {\n",
       "        vertical-align: top;\n",
       "    }\n",
       "\n",
       "    .dataframe thead th {\n",
       "        text-align: right;\n",
       "    }\n",
       "</style>\n",
       "<table border=\"1\" class=\"dataframe\">\n",
       "  <thead>\n",
       "    <tr style=\"text-align: right;\">\n",
       "      <th></th>\n",
       "      <th>Unnamed: 0</th>\n",
       "      <th>ClientUniqueID</th>\n",
       "      <th>AcuityScore</th>\n",
       "      <th>AssessmentName</th>\n",
       "      <th>AssessmentDate</th>\n",
       "      <th>Gender</th>\n",
       "      <th>Veteran</th>\n",
       "      <th>Age</th>\n",
       "      <th>UniqueIdentifier</th>\n",
       "      <th>HouseholdID</th>\n",
       "      <th>HoH</th>\n",
       "      <th>EnrollmentID</th>\n",
       "      <th>Program</th>\n",
       "      <th>ProgramTypeCode</th>\n",
       "      <th>Project Type Description</th>\n",
       "      <th>ProgramStart</th>\n",
       "      <th>MoveInDate</th>\n",
       "      <th>ProgramExit</th>\n",
       "      <th>Destination</th>\n",
       "      <th>DestinationDescription</th>\n",
       "      <th>race</th>\n",
       "      <th>ethnicity</th>\n",
       "      <th>active</th>\n",
       "      <th>NewEnrolled</th>\n",
       "      <th>PHExits</th>\n",
       "      <th>HoH.1</th>\n",
       "    </tr>\n",
       "  </thead>\n",
       "  <tbody>\n",
       "    <tr>\n",
       "      <th>0</th>\n",
       "      <td>0</td>\n",
       "      <td>54A7987C4</td>\n",
       "      <td>9</td>\n",
       "      <td>CES for Families - VI-FSPDAT v2</td>\n",
       "      <td>2018-12-03</td>\n",
       "      <td>Female</td>\n",
       "      <td>No</td>\n",
       "      <td>25</td>\n",
       "      <td>54A7987C4</td>\n",
       "      <td>508346</td>\n",
       "      <td>Yes</td>\n",
       "      <td>512992</td>\n",
       "      <td>TWC FSC Rapid Re-Housing</td>\n",
       "      <td>13</td>\n",
       "      <td>PH - Rapid Rehousing</td>\n",
       "      <td>2018-12-03</td>\n",
       "      <td>2019-03-05</td>\n",
       "      <td>2019-06-28</td>\n",
       "      <td>20.0</td>\n",
       "      <td>Rental by client, with other ongoing housing s...</td>\n",
       "      <td>White</td>\n",
       "      <td>Hispanic/Latino</td>\n",
       "      <td>No</td>\n",
       "      <td>Yes</td>\n",
       "      <td>Yes</td>\n",
       "      <td>Yes</td>\n",
       "    </tr>\n",
       "    <tr>\n",
       "      <th>1</th>\n",
       "      <td>1</td>\n",
       "      <td>54A7987C4</td>\n",
       "      <td>9</td>\n",
       "      <td>CES for Families - VI-FSPDAT v2</td>\n",
       "      <td>2018-12-03</td>\n",
       "      <td>Female</td>\n",
       "      <td>No</td>\n",
       "      <td>25</td>\n",
       "      <td>54A7987C4</td>\n",
       "      <td>515196</td>\n",
       "      <td>Yes</td>\n",
       "      <td>520445</td>\n",
       "      <td>TWC FSC Crisis Housing</td>\n",
       "      <td>1</td>\n",
       "      <td>Emergency Shelter</td>\n",
       "      <td>2018-12-03</td>\n",
       "      <td>NaT</td>\n",
       "      <td>2019-02-12</td>\n",
       "      <td>1.0</td>\n",
       "      <td>Emergency shelter, including hotel or motel pa...</td>\n",
       "      <td>White</td>\n",
       "      <td>Hispanic/Latino</td>\n",
       "      <td>No</td>\n",
       "      <td>Yes</td>\n",
       "      <td>No</td>\n",
       "      <td>Yes</td>\n",
       "    </tr>\n",
       "    <tr>\n",
       "      <th>2</th>\n",
       "      <td>2</td>\n",
       "      <td>54A7987C4</td>\n",
       "      <td>9</td>\n",
       "      <td>CES for Families - VI-FSPDAT v2</td>\n",
       "      <td>2018-12-03</td>\n",
       "      <td>Female</td>\n",
       "      <td>No</td>\n",
       "      <td>25</td>\n",
       "      <td>54A7987C4</td>\n",
       "      <td>538537</td>\n",
       "      <td>Yes</td>\n",
       "      <td>543145</td>\n",
       "      <td>TSA FSC Whittier Crisis Housing</td>\n",
       "      <td>1</td>\n",
       "      <td>Emergency Shelter</td>\n",
       "      <td>2019-02-12</td>\n",
       "      <td>NaT</td>\n",
       "      <td>2019-03-05</td>\n",
       "      <td>20.0</td>\n",
       "      <td>Rental by client, with other ongoing housing s...</td>\n",
       "      <td>White</td>\n",
       "      <td>Hispanic/Latino</td>\n",
       "      <td>No</td>\n",
       "      <td>Yes</td>\n",
       "      <td>Yes</td>\n",
       "      <td>Yes</td>\n",
       "    </tr>\n",
       "    <tr>\n",
       "      <th>3</th>\n",
       "      <td>4</td>\n",
       "      <td>A2036C006</td>\n",
       "      <td>4</td>\n",
       "      <td>CES for Families - VI-FSPDAT v2</td>\n",
       "      <td>2018-10-12</td>\n",
       "      <td>Female</td>\n",
       "      <td>No</td>\n",
       "      <td>32</td>\n",
       "      <td>A2036C006</td>\n",
       "      <td>527393</td>\n",
       "      <td>Yes</td>\n",
       "      <td>532681</td>\n",
       "      <td>SSG FSC Rapid Re-Housing</td>\n",
       "      <td>13</td>\n",
       "      <td>PH - Rapid Rehousing</td>\n",
       "      <td>2019-01-18</td>\n",
       "      <td>2019-06-11</td>\n",
       "      <td>NaT</td>\n",
       "      <td>NaN</td>\n",
       "      <td>NaN</td>\n",
       "      <td>Black or African American</td>\n",
       "      <td>Non-Hispanic/Non-Latino</td>\n",
       "      <td>Yes</td>\n",
       "      <td>Yes</td>\n",
       "      <td>No</td>\n",
       "      <td>Yes</td>\n",
       "    </tr>\n",
       "    <tr>\n",
       "      <th>4</th>\n",
       "      <td>5</td>\n",
       "      <td>A2036C006</td>\n",
       "      <td>4</td>\n",
       "      <td>CES for Families - VI-FSPDAT v2</td>\n",
       "      <td>2018-10-12</td>\n",
       "      <td>Female</td>\n",
       "      <td>No</td>\n",
       "      <td>32</td>\n",
       "      <td>A2036C006</td>\n",
       "      <td>520059</td>\n",
       "      <td>Yes</td>\n",
       "      <td>525348</td>\n",
       "      <td>SSG FSC Crisis Housing</td>\n",
       "      <td>1</td>\n",
       "      <td>Emergency Shelter</td>\n",
       "      <td>2018-12-20</td>\n",
       "      <td>NaT</td>\n",
       "      <td>2019-06-11</td>\n",
       "      <td>20.0</td>\n",
       "      <td>Rental by client, with other ongoing housing s...</td>\n",
       "      <td>Black or African American</td>\n",
       "      <td>Non-Hispanic/Non-Latino</td>\n",
       "      <td>No</td>\n",
       "      <td>Yes</td>\n",
       "      <td>Yes</td>\n",
       "      <td>Yes</td>\n",
       "    </tr>\n",
       "  </tbody>\n",
       "</table>\n",
       "</div>"
      ],
      "text/plain": [
       "   Unnamed: 0 ClientUniqueID  AcuityScore                   AssessmentName  \\\n",
       "0           0      54A7987C4            9  CES for Families - VI-FSPDAT v2   \n",
       "1           1      54A7987C4            9  CES for Families - VI-FSPDAT v2   \n",
       "2           2      54A7987C4            9  CES for Families - VI-FSPDAT v2   \n",
       "3           4      A2036C006            4  CES for Families - VI-FSPDAT v2   \n",
       "4           5      A2036C006            4  CES for Families - VI-FSPDAT v2   \n",
       "\n",
       "  AssessmentDate  Gender Veteran  Age UniqueIdentifier  HouseholdID  HoH  \\\n",
       "0     2018-12-03  Female      No   25        54A7987C4       508346  Yes   \n",
       "1     2018-12-03  Female      No   25        54A7987C4       515196  Yes   \n",
       "2     2018-12-03  Female      No   25        54A7987C4       538537  Yes   \n",
       "3     2018-10-12  Female      No   32        A2036C006       527393  Yes   \n",
       "4     2018-10-12  Female      No   32        A2036C006       520059  Yes   \n",
       "\n",
       "   EnrollmentID                          Program  ProgramTypeCode  \\\n",
       "0        512992         TWC FSC Rapid Re-Housing               13   \n",
       "1        520445           TWC FSC Crisis Housing                1   \n",
       "2        543145  TSA FSC Whittier Crisis Housing                1   \n",
       "3        532681         SSG FSC Rapid Re-Housing               13   \n",
       "4        525348           SSG FSC Crisis Housing                1   \n",
       "\n",
       "  Project Type Description ProgramStart MoveInDate ProgramExit  Destination  \\\n",
       "0     PH - Rapid Rehousing   2018-12-03 2019-03-05  2019-06-28         20.0   \n",
       "1        Emergency Shelter   2018-12-03        NaT  2019-02-12          1.0   \n",
       "2        Emergency Shelter   2019-02-12        NaT  2019-03-05         20.0   \n",
       "3     PH - Rapid Rehousing   2019-01-18 2019-06-11         NaT          NaN   \n",
       "4        Emergency Shelter   2018-12-20        NaT  2019-06-11         20.0   \n",
       "\n",
       "                              DestinationDescription  \\\n",
       "0  Rental by client, with other ongoing housing s...   \n",
       "1  Emergency shelter, including hotel or motel pa...   \n",
       "2  Rental by client, with other ongoing housing s...   \n",
       "3                                                NaN   \n",
       "4  Rental by client, with other ongoing housing s...   \n",
       "\n",
       "                        race                ethnicity active NewEnrolled  \\\n",
       "0                      White          Hispanic/Latino     No         Yes   \n",
       "1                      White          Hispanic/Latino     No         Yes   \n",
       "2                      White          Hispanic/Latino     No         Yes   \n",
       "3  Black or African American  Non-Hispanic/Non-Latino    Yes         Yes   \n",
       "4  Black or African American  Non-Hispanic/Non-Latino     No         Yes   \n",
       "\n",
       "  PHExits HoH.1  \n",
       "0     Yes   Yes  \n",
       "1      No   Yes  \n",
       "2     Yes   Yes  \n",
       "3      No   Yes  \n",
       "4     Yes   Yes  "
      ]
     },
     "execution_count": 3,
     "metadata": {},
     "output_type": "execute_result"
    }
   ],
   "source": [
    "pd.set_option('display.max_columns', None)\n",
    "df.head()"
   ]
  },
  {
   "cell_type": "code",
   "execution_count": 22,
   "metadata": {},
   "outputs": [
    {
     "data": {
      "text/plain": [
       "13    3602\n",
       "1     2520\n",
       "12    2390\n",
       "6      105\n",
       "Name: ProgramTypeCode, dtype: int64"
      ]
     },
     "execution_count": 22,
     "metadata": {},
     "output_type": "execute_result"
    }
   ],
   "source": [
    "#df[df['PHExits']=='Yes']['ProgramTypeCode'].value_counts()"
   ]
  },
  {
   "cell_type": "code",
   "execution_count": 7,
   "metadata": {},
   "outputs": [
    {
     "data": {
      "text/plain": [
       "10.0    233\n",
       "31.0    144\n",
       "20.0    115\n",
       "22.0     60\n",
       "3.0      15\n",
       "23.0      8\n",
       "19.0      3\n",
       "21.0      1\n",
       "Name: Destination, dtype: int64"
      ]
     },
     "execution_count": 7,
     "metadata": {},
     "output_type": "execute_result"
    }
   ],
   "source": [
    "df[df['PHExits']=='Yes']['Destination'].value_counts()\n"
   ]
  },
  {
   "cell_type": "code",
   "execution_count": 8,
   "metadata": {},
   "outputs": [
    {
     "data": {
      "text/plain": [
       "Index(['Unnamed: 0', 'ClientUniqueID', 'AcuityScore', 'AssessmentName',\n",
       "       'AssessmentDate', 'Gender', 'Veteran', 'Age', 'UniqueIdentifier',\n",
       "       'HouseholdID', 'HoH', 'EnrollmentID', 'Program', 'ProgramTypeCode',\n",
       "       'Project Type Description', 'ProgramStart', 'MoveInDate', 'ProgramExit',\n",
       "       'Destination', 'DestinationDescription', 'race', 'ethnicity', 'active',\n",
       "       'NewEnrolled', 'PHExits', 'HoH.1'],\n",
       "      dtype='object')"
      ]
     },
     "execution_count": 8,
     "metadata": {},
     "output_type": "execute_result"
    }
   ],
   "source": [
    "df.columns"
   ]
  },
  {
   "cell_type": "code",
   "execution_count": 11,
   "metadata": {},
   "outputs": [
    {
     "data": {
      "text/html": [
       "<div>\n",
       "<style scoped>\n",
       "    .dataframe tbody tr th:only-of-type {\n",
       "        vertical-align: middle;\n",
       "    }\n",
       "\n",
       "    .dataframe tbody tr th {\n",
       "        vertical-align: top;\n",
       "    }\n",
       "\n",
       "    .dataframe thead th {\n",
       "        text-align: right;\n",
       "    }\n",
       "</style>\n",
       "<table border=\"1\" class=\"dataframe\">\n",
       "  <thead>\n",
       "    <tr style=\"text-align: right;\">\n",
       "      <th></th>\n",
       "      <th>AcuityScore</th>\n",
       "      <th>Veteran</th>\n",
       "      <th>HoH</th>\n",
       "      <th>ProgramTypeCode</th>\n",
       "      <th>Gender</th>\n",
       "      <th>ethnicity</th>\n",
       "      <th>Age</th>\n",
       "      <th>race</th>\n",
       "      <th>active</th>\n",
       "      <th>NewEnrolled</th>\n",
       "      <th>PHExits</th>\n",
       "    </tr>\n",
       "  </thead>\n",
       "  <tbody>\n",
       "    <tr>\n",
       "      <th>0</th>\n",
       "      <td>9</td>\n",
       "      <td>0</td>\n",
       "      <td>1</td>\n",
       "      <td>13</td>\n",
       "      <td>0</td>\n",
       "      <td>2</td>\n",
       "      <td>25</td>\n",
       "      <td>5</td>\n",
       "      <td>2</td>\n",
       "      <td>1</td>\n",
       "      <td>1</td>\n",
       "    </tr>\n",
       "    <tr>\n",
       "      <th>1</th>\n",
       "      <td>9</td>\n",
       "      <td>0</td>\n",
       "      <td>1</td>\n",
       "      <td>1</td>\n",
       "      <td>0</td>\n",
       "      <td>2</td>\n",
       "      <td>25</td>\n",
       "      <td>5</td>\n",
       "      <td>2</td>\n",
       "      <td>1</td>\n",
       "      <td>2</td>\n",
       "    </tr>\n",
       "    <tr>\n",
       "      <th>2</th>\n",
       "      <td>9</td>\n",
       "      <td>0</td>\n",
       "      <td>1</td>\n",
       "      <td>1</td>\n",
       "      <td>0</td>\n",
       "      <td>2</td>\n",
       "      <td>25</td>\n",
       "      <td>5</td>\n",
       "      <td>2</td>\n",
       "      <td>1</td>\n",
       "      <td>1</td>\n",
       "    </tr>\n",
       "    <tr>\n",
       "      <th>3</th>\n",
       "      <td>4</td>\n",
       "      <td>0</td>\n",
       "      <td>1</td>\n",
       "      <td>13</td>\n",
       "      <td>0</td>\n",
       "      <td>1</td>\n",
       "      <td>32</td>\n",
       "      <td>3</td>\n",
       "      <td>1</td>\n",
       "      <td>1</td>\n",
       "      <td>2</td>\n",
       "    </tr>\n",
       "    <tr>\n",
       "      <th>4</th>\n",
       "      <td>4</td>\n",
       "      <td>0</td>\n",
       "      <td>1</td>\n",
       "      <td>1</td>\n",
       "      <td>0</td>\n",
       "      <td>1</td>\n",
       "      <td>32</td>\n",
       "      <td>3</td>\n",
       "      <td>2</td>\n",
       "      <td>1</td>\n",
       "      <td>1</td>\n",
       "    </tr>\n",
       "  </tbody>\n",
       "</table>\n",
       "</div>"
      ],
      "text/plain": [
       "   AcuityScore  Veteran  HoH  ProgramTypeCode  Gender  ethnicity  Age  race  \\\n",
       "0            9        0    1               13       0          2   25     5   \n",
       "1            9        0    1                1       0          2   25     5   \n",
       "2            9        0    1                1       0          2   25     5   \n",
       "3            4        0    1               13       0          1   32     3   \n",
       "4            4        0    1                1       0          1   32     3   \n",
       "\n",
       "   active  NewEnrolled  PHExits  \n",
       "0       2            1        1  \n",
       "1       2            1        2  \n",
       "2       2            1        1  \n",
       "3       1            1        2  \n",
       "4       2            1        1  "
      ]
     },
     "execution_count": 11,
     "metadata": {},
     "output_type": "execute_result"
    }
   ],
   "source": [
    "Tdf = df\n",
    "\n",
    "#Tdf= Tdf[Tdf['PHExits']=='Yes']\n",
    "Tdf = Tdf[['AcuityScore','Veteran','HoH','ProgramTypeCode','Gender','ethnicity','Age','race','active','NewEnrolled','PHExits']]\n",
    "Tdf = Tdf[Tdf['race']!='Multirace']\n",
    "#Conditions----\n",
    "\n",
    "# Head of Household-----\n",
    "Tdf['HoH'] = np.where(Tdf['HoH']=='Yes', 1, 2)\n",
    "#Tdf = Tdf.drop('HoH',axis=1)\n",
    "#--------\n",
    "\n",
    "#---Gender-----\n",
    "conditionsGender = [\n",
    "    (Tdf['Gender'] == 'Female') ,\n",
    "    (Tdf['Gender'] == 'Male') ,\n",
    "    (Tdf['Gender'] == 'Trans Female (FTM or Male to Female)'),\n",
    "    (Tdf['Gender'] == 'Trans Male (FTM or Female to Male)'),\n",
    "    (Tdf['Gender'] == 'Gender Non-Conforming (i.e. not exclusively male or female)'),\n",
    "    (Tdf['Gender'] == \"Client doesn't know\"),\n",
    "    (Tdf['Gender'] == \"Client refused\")]\n",
    "choicesGender = [0,1,2,3,4,8,9]\n",
    "Tdf['Gender'] = np.select(conditionsGender, choicesGender, default= 99)\n",
    "#-------------\n",
    "\n",
    "# Active: 1 for active and 2 not active.----------\n",
    "Tdf['active'] = np.where(Tdf['active']=='Yes', 1, 2) \n",
    "\n",
    "# New enrolled: 1 for yes and 2 for now\n",
    "Tdf['NewEnrolled'] = np.where(Tdf['NewEnrolled']=='Yes', 1, 2)\n",
    "\n",
    "# Ethnicity: \n",
    "conditionsEthnicity = [\n",
    "    (Tdf['ethnicity'] == 'Non-Hispanic/Non-Latino') ,\n",
    "    (Tdf['ethnicity'] == 'Hispanic/Latino') ,\n",
    "    (Tdf['ethnicity'] == \"Client doesn't know\"),\n",
    "    (Tdf['ethnicity'] == \"Client refused\")]\n",
    "choicesEthnicity = [1,2,8,9]\n",
    "Tdf['ethnicity'] = np.select(conditionsEthnicity, choicesEthnicity, default= 99)\n",
    "\n",
    "# VETERAN\n",
    "#Tdf['Veteran'] = np.where(Tdf['Veteran']=='Yes', 1, 2) \n",
    "conditionsVeteran = [\n",
    "    (Tdf['Veteran'] == 'No') ,\n",
    "    (Tdf['Veteran'] == 'Yes') ,\n",
    "    (Tdf['Veteran'] == \"Client doesn't know\"),\n",
    "    (Tdf['Veteran'] == \"Client refused\")]\n",
    "choicesVeteran = [0,2,8,9]\n",
    "Tdf['Veteran'] = np.select(conditionsVeteran, choicesVeteran, default= 99)\n",
    "\n",
    "#Race\n",
    "conditionsRace = [\n",
    "    (Tdf['race'] == 'American Indian or Alaska Native') ,\n",
    "    (Tdf['race'] == 'Asian') ,\n",
    "    (Tdf['race'] == \"Black or African American\"),\n",
    "    (Tdf['race'] == \"Native Hawaiian or Other Pacific Islander\"),\n",
    "    (Tdf['race'] == \"White\"),\n",
    "    (Tdf['race'] == \"Client doesn't know\"),\n",
    "    (Tdf['race'] == \"Client refused\")]\n",
    "choicesRace = [1,2,3,4,5,8,9]\n",
    "Tdf['race'] = np.select(conditionsRace, choicesRace, default= 99)\n",
    "\n",
    "#PH Exits\n",
    "Tdf['PHExits'] = np.where(Tdf['PHExits']=='Yes', 1, 2) \n",
    "Tdf.head()"
   ]
  },
  {
   "cell_type": "code",
   "execution_count": 13,
   "metadata": {},
   "outputs": [
    {
     "data": {
      "text/plain": [
       "2    2868\n",
       "1     579\n",
       "Name: PHExits, dtype: int64"
      ]
     },
     "execution_count": 13,
     "metadata": {},
     "output_type": "execute_result"
    }
   ],
   "source": [
    "Tdf['PHExits'].value_counts()"
   ]
  },
  {
   "cell_type": "code",
   "execution_count": 17,
   "metadata": {},
   "outputs": [],
   "source": [
    "from sklearn.svm import SVC"
   ]
  },
  {
   "cell_type": "code",
   "execution_count": 18,
   "metadata": {},
   "outputs": [],
   "source": [
    "X = Tdf.drop('PHExits', axis=1)\n",
    "y = Tdf['PHExits']"
   ]
  },
  {
   "cell_type": "code",
   "execution_count": 19,
   "metadata": {},
   "outputs": [],
   "source": [
    "from sklearn.model_selection import train_test_split\n",
    "X_train, X_test, y_train, y_test = train_test_split(X, y, test_size = 0.20)"
   ]
  },
  {
   "cell_type": "code",
   "execution_count": 20,
   "metadata": {},
   "outputs": [
    {
     "name": "stderr",
     "output_type": "stream",
     "text": [
      "D:\\Felix\\Anaconda3\\lib\\site-packages\\sklearn\\svm\\base.py:193: FutureWarning: The default value of gamma will change from 'auto' to 'scale' in version 0.22 to account better for unscaled features. Set gamma explicitly to 'auto' or 'scale' to avoid this warning.\n",
      "  \"avoid this warning.\", FutureWarning)\n"
     ]
    },
    {
     "data": {
      "text/plain": [
       "SVC(C=1.0, cache_size=200, class_weight=None, coef0=0.0,\n",
       "    decision_function_shape='ovr', degree=4, gamma='auto_deprecated',\n",
       "    kernel='poly', max_iter=-1, probability=False, random_state=None,\n",
       "    shrinking=True, tol=0.001, verbose=False)"
      ]
     },
     "execution_count": 20,
     "metadata": {},
     "output_type": "execute_result"
    }
   ],
   "source": [
    "#SVM - Polynomial Kernel\n",
    "svclassifier = SVC(kernel='poly', degree=4)\n",
    "svclassifier.fit(X_train, y_train)"
   ]
  },
  {
   "cell_type": "code",
   "execution_count": 21,
   "metadata": {},
   "outputs": [],
   "source": [
    "#Making Predictions\n",
    "y_pred = svclassifier.predict(X_test)"
   ]
  },
  {
   "cell_type": "code",
   "execution_count": 22,
   "metadata": {},
   "outputs": [
    {
     "name": "stdout",
     "output_type": "stream",
     "text": [
      "[[ 53  67]\n",
      " [ 41 529]]\n",
      "              precision    recall  f1-score   support\n",
      "\n",
      "           1       0.56      0.44      0.50       120\n",
      "           2       0.89      0.93      0.91       570\n",
      "\n",
      "    accuracy                           0.84       690\n",
      "   macro avg       0.73      0.68      0.70       690\n",
      "weighted avg       0.83      0.84      0.84       690\n",
      "\n"
     ]
    }
   ],
   "source": [
    "#Evaluating the Algorithm\n",
    "\n",
    "from sklearn.metrics import classification_report, confusion_matrix\n",
    "print(confusion_matrix(y_test, y_pred))\n",
    "print(classification_report(y_test, y_pred))"
   ]
  },
  {
   "cell_type": "code",
   "execution_count": 24,
   "metadata": {},
   "outputs": [
    {
     "data": {
      "text/plain": [
       "SVC(C=1.0, cache_size=200, class_weight=None, coef0=0.0,\n",
       "    decision_function_shape='ovr', degree=3, gamma='auto_deprecated',\n",
       "    kernel='linear', max_iter=-1, probability=False, random_state=None,\n",
       "    shrinking=True, tol=0.001, verbose=False)"
      ]
     },
     "execution_count": 24,
     "metadata": {},
     "output_type": "execute_result"
    }
   ],
   "source": [
    "# SVM using a linear kernel\n",
    "svclassifier2 = SVC(kernel='linear')\n",
    "svclassifier2.fit(X_train, y_train)"
   ]
  },
  {
   "cell_type": "code",
   "execution_count": 25,
   "metadata": {},
   "outputs": [],
   "source": [
    "y_predLinear = svclassifier2.predict(X_test)"
   ]
  },
  {
   "cell_type": "code",
   "execution_count": 27,
   "metadata": {},
   "outputs": [
    {
     "name": "stdout",
     "output_type": "stream",
     "text": [
      "[[ 24  96]\n",
      " [ 20 550]]\n",
      "              precision    recall  f1-score   support\n",
      "\n",
      "           1       0.55      0.20      0.29       120\n",
      "           2       0.85      0.96      0.90       570\n",
      "\n",
      "    accuracy                           0.83       690\n",
      "   macro avg       0.70      0.58      0.60       690\n",
      "weighted avg       0.80      0.83      0.80       690\n",
      "\n"
     ]
    }
   ],
   "source": [
    "print(confusion_matrix(y_test, y_predLinear))\n",
    "print(classification_report(y_test, y_predLinear))"
   ]
  },
  {
   "cell_type": "code",
   "execution_count": null,
   "metadata": {},
   "outputs": [],
   "source": []
  }
 ],
 "metadata": {
  "kernelspec": {
   "display_name": "Python 3",
   "language": "python",
   "name": "python3"
  },
  "language_info": {
   "codemirror_mode": {
    "name": "ipython",
    "version": 3
   },
   "file_extension": ".py",
   "mimetype": "text/x-python",
   "name": "python",
   "nbconvert_exporter": "python",
   "pygments_lexer": "ipython3",
   "version": "3.7.3"
  }
 },
 "nbformat": 4,
 "nbformat_minor": 2
}
